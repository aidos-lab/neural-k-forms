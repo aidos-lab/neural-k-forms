{
 "cells": [
  {
   "attachments": {},
   "cell_type": "markdown",
   "metadata": {},
   "source": [
    "## AIDS\n",
    "\n",
    "In *message passing simplicial networks* they benchmark using some data sets from TUdatasets. Here we try the PROTEINS dataset. See \"Protein Function Prediction via Graph Kernels\", Bogwart et al., for details about the data set. \n",
    "\n",
    "There are two classes of graphs: *enzymes* and *not enzymes*\n",
    "\n",
    "The data set has node features in $\\{0,1 \\}^3$ . "
   ]
  },
  {
   "cell_type": "markdown",
   "metadata": {},
   "source": [
    "### Todo: \n",
    "- Check initialization of cochains: I think right now its random \n",
    "- Try different models,  maybe more convolutional layers or higher powers of L "
   ]
  },
  {
   "cell_type": "code",
   "execution_count": 1,
   "metadata": {},
   "outputs": [],
   "source": [
    "import torch\n",
    "import torch.nn as nn\n",
    "import torch_geometric\n",
    "from torch_geometric.datasets import TUDataset\n",
    "import networkx as nx\n",
    "import numpy as np\n",
    "import gudhi as gd\n",
    "import matplotlib.pyplot as plt\n",
    "import numpy as np\n",
    "  \n",
    "import cochainlearning as cl"
   ]
  },
  {
   "cell_type": "markdown",
   "metadata": {},
   "source": [
    "# Load the dataset"
   ]
  },
  {
   "cell_type": "code",
   "execution_count": 2,
   "metadata": {},
   "outputs": [
    {
     "data": {
      "text/plain": [
       "AIDS(2000)"
      ]
     },
     "execution_count": 2,
     "metadata": {},
     "output_type": "execute_result"
    }
   ],
   "source": [
    "#load data\n",
    "dataset = TUDataset(root='tudata/TUDataset', name='AIDS')\n",
    "dataset"
   ]
  },
  {
   "cell_type": "code",
   "execution_count": 3,
   "metadata": {},
   "outputs": [
    {
     "name": "stdout",
     "output_type": "stream",
     "text": [
      "\n",
      "Dataset: AIDS(2000):\n",
      "====================\n",
      "Number of graphs: 2000\n",
      "Number of features: 38\n",
      "Number of classes: 2\n",
      "\n",
      "Data(edge_index=[2, 106], x=[47, 38], edge_attr=[106, 3], y=[1])\n",
      "=============================================================\n",
      "Number of nodes: 47\n",
      "Number of edges: 106\n",
      "Average node degree: 2.26\n",
      "Has isolated nodes: False\n",
      "Has self-loops: False\n",
      "Is undirected: True\n"
     ]
    }
   ],
   "source": [
    "print()\n",
    "print(f'Dataset: {dataset}:')\n",
    "print('====================')\n",
    "print(f'Number of graphs: {len(dataset)}')\n",
    "print(f'Number of features: {dataset.num_features}')\n",
    "print(f'Number of classes: {dataset.num_classes}')\n",
    "\n",
    "data = dataset[0]  # Get the first graph object.\n",
    "\n",
    "print()\n",
    "print(data)\n",
    "print('=============================================================')\n",
    "\n",
    "# Gather some statistics about the first graph.\n",
    "print(f'Number of nodes: {data.num_nodes}')\n",
    "print(f'Number of edges: {data.num_edges}')\n",
    "print(f'Average node degree: {data.num_edges / data.num_nodes:.2f}')\n",
    "print(f'Has isolated nodes: {data.has_isolated_nodes()}')\n",
    "print(f'Has self-loops: {data.has_self_loops()}')\n",
    "print(f'Is undirected: {data.is_undirected()}')"
   ]
  },
  {
   "cell_type": "markdown",
   "metadata": {},
   "source": [
    "#### Separate data into training and testing "
   ]
  },
  {
   "cell_type": "code",
   "execution_count": 4,
   "metadata": {},
   "outputs": [
    {
     "name": "stdout",
     "output_type": "stream",
     "text": [
      "Number of training graphs: 1600\n",
      "Number of test graphs: 400\n"
     ]
    }
   ],
   "source": [
    "torch.manual_seed(12345)\n",
    "dataset = dataset.shuffle()\n",
    "\n",
    "len_train_set = 1600\n",
    "\n",
    "train_dataset = dataset[:len_train_set]\n",
    "test_dataset = dataset[len_train_set:]\n",
    "\n",
    "print(f'Number of training graphs: {len(train_dataset)}')\n",
    "print(f'Number of test graphs: {len(test_dataset)}')"
   ]
  },
  {
   "cell_type": "markdown",
   "metadata": {},
   "source": [
    "#### Make clique complexess with the graphs\n",
    "clique complexes up to dimension 2 "
   ]
  },
  {
   "cell_type": "code",
   "execution_count": 5,
   "metadata": {},
   "outputs": [
    {
     "name": "stderr",
     "output_type": "stream",
     "text": [
      "/var/folders/w2/2q_ql79j5_s6kq_b56rg9xdc0000gn/T/ipykernel_1258/1412791142.py:7: UserWarning: To copy construct from a tensor, it is recommended to use sourceTensor.clone().detach() or sourceTensor.clone().detach().requires_grad_(True), rather than torch.tensor(sourceTensor).\n",
      "  node_features = torch.tensor(graph['x'])\n",
      "/var/folders/w2/2q_ql79j5_s6kq_b56rg9xdc0000gn/T/ipykernel_1258/1412791142.py:10: UserWarning: To copy construct from a tensor, it is recommended to use sourceTensor.clone().detach() or sourceTensor.clone().detach().requires_grad_(True), rather than torch.tensor(sourceTensor).\n",
      "  edge_index =torch.tensor(data['edge_index']).T\n",
      "/var/folders/w2/2q_ql79j5_s6kq_b56rg9xdc0000gn/T/ipykernel_1258/1412791142.py:19: UserWarning: Creating a tensor from a list of numpy.ndarrays is extremely slow. Please consider converting the list to a single numpy.ndarray with numpy.array() before converting to a tensor. (Triggered internally at /Users/runner/work/pytorch/pytorch/pytorch/torch/csrc/utils/tensor_new.cpp:248.)\n",
      "  edges = torch.tensor([np.sort([edge_index[i][0],edge_index[i][1]]) for i in range(len(edge_index))])\n"
     ]
    }
   ],
   "source": [
    "def graph_to_chain(graph):\n",
    "    \"\"\" \n",
    "    A function for turning a graph into a chain\n",
    "    \"\"\"\n",
    "\n",
    "    # get node features\n",
    "    node_features = torch.tensor(graph['x'])\n",
    "\n",
    "    # get edges\n",
    "    edge_index =torch.tensor(data['edge_index']).T\n",
    "\n",
    "    # number of 1-simplices\n",
    "    r = edge_index.shape[0]\n",
    "\n",
    "    # embedding dimension\n",
    "    n = node_features.shape[1]\n",
    "\n",
    "    # sort the edge indices\n",
    "    edges = torch.tensor([np.sort([edge_index[i][0],edge_index[i][1]]) for i in range(len(edge_index))])\n",
    "\n",
    "    # initialize chain\n",
    "    ch = torch.zeros((r,2,n))\n",
    "\n",
    "    # turn edges into a 1-chain\n",
    "    for i in range(r):\n",
    "        ch[i,0,:] = node_features[edges[i][0]]\n",
    "        ch[i,1,:] = node_features[edges[i][1]]\n",
    "\n",
    "    return ch\n",
    "\n",
    "# example\n",
    "chainz = []\n",
    "for i in range(len(dataset)):\n",
    "    data = dataset[i]\n",
    "\n",
    "    chainz.append(graph_to_chain(data))"
   ]
  },
  {
   "attachments": {},
   "cell_type": "markdown",
   "metadata": {},
   "source": [
    "## Train a model"
   ]
  },
  {
   "cell_type": "code",
   "execution_count": 6,
   "metadata": {},
   "outputs": [],
   "source": [
    "class model(nn.Module):  \n",
    "    \n",
    "    \"\"\"Define a simple model using convolutional layers and linear layers \n",
    "    to reduce the dim of the output \"\"\"\n",
    "    \n",
    "    \n",
    "    def __init__(self, n, out, c = 5, m1 = 20, m2 = 10, m3 = 20, m4 = 10): ## check channel sizes\n",
    "        super().__init__()\n",
    "        self.n = n\n",
    "        self.c = c\n",
    "        self.m1 = m1\n",
    "        self.m2 = m2\n",
    "        self.m3 = m3\n",
    "\n",
    "        # initialise vector field\n",
    "        self.vf = nn.Sequential(\n",
    "                    nn.Linear(n, m1),\n",
    "                    nn.ReLU(),\n",
    "                    nn.Linear(m1, m2),\n",
    "                    nn.ReLU(),\n",
    "                    nn.Linear(m2, n*c)\n",
    "                    )\n",
    "        \n",
    "        # initialise MLP classifier\n",
    "        self.classifier = nn.Sequential(\n",
    "                    nn.Linear(c, m3),\n",
    "                    nn.ReLU(),\n",
    "                    nn.Linear(m3, m4),\n",
    "                    nn.ReLU(),\n",
    "                    nn.Linear(m4, out)\n",
    "                    )\n",
    "\n",
    "        \n",
    "        \n",
    "    def forward(self, x):\n",
    "        ## asses the dimensions are correct somewhere \n",
    "        \"Here the input is a chain, and the output is a vector of probabilities\"\n",
    "\n",
    "        # generate cochain data matrix\n",
    "        X = cl.gen_CDM(self.vf, x)\n",
    "\n",
    "        # orientation invariant square L2-norm readout function\n",
    "        X = torch.diag(X.T @ X)\n",
    "\n",
    "        # put output through classifier\n",
    "        output = self.classifier(X)\n",
    "\n",
    "        # softmax\n",
    "        sm = nn.functional.softmax(output)\n",
    "        \n",
    "        return sm\n",
    "    \n",
    "    "
   ]
  },
  {
   "cell_type": "code",
   "execution_count": 9,
   "metadata": {},
   "outputs": [],
   "source": [
    "\n",
    "n = dataset[0]['x'].shape[1] # cochain feature dimension\n",
    "out = dataset.num_classes # output dimension\n",
    "\n",
    "\n",
    "basic_model = model(n = n, out = out)"
   ]
  },
  {
   "cell_type": "code",
   "execution_count": 10,
   "metadata": {},
   "outputs": [
    {
     "data": {
      "text/plain": [
       "tensor([1])"
      ]
     },
     "execution_count": 10,
     "metadata": {},
     "output_type": "execute_result"
    }
   ],
   "source": [
    "dataset[0].y"
   ]
  },
  {
   "cell_type": "code",
   "execution_count": 11,
   "metadata": {},
   "outputs": [
    {
     "name": "stdout",
     "output_type": "stream",
     "text": [
      "Number of graphs in each class in the dataset:\n",
      "=============================================================\n",
      "Class 0: 320\n",
      "Class 1: 1280\n"
     ]
    }
   ],
   "source": [
    "# print the total number of graphs in each class in the dataset\n",
    "print('Number of graphs in each class in the dataset:')\n",
    "print('=============================================================')\n",
    "for i in range(train_dataset.num_classes):\n",
    "    print(f'Class {i}: {sum([1 for data in train_dataset if data.y == i])}')\n",
    "\n",
    "# store the ratio of graphs in each class\n",
    "class_ratios = torch.tensor([sum([1 for data in train_dataset if data.y == i]) / len(train_dataset) for i in range(train_dataset.num_classes)])\n",
    "\n",
    "weight_ratios = 1 - class_ratios\n"
   ]
  },
  {
   "cell_type": "code",
   "execution_count": 12,
   "metadata": {},
   "outputs": [],
   "source": [
    "import torch.optim as optim\n",
    "\n",
    "# create your optimizer\n",
    "optimizer = optim.SGD(basic_model.parameters(), lr=1e-1)\n",
    "\n",
    "criterion = torch.nn.CrossEntropyLoss(weight=weight_ratios) "
   ]
  },
  {
   "cell_type": "code",
   "execution_count": 13,
   "metadata": {},
   "outputs": [],
   "source": [
    "def train(dataset, chainz):\n",
    "\n",
    "    \n",
    "    basic_model.train()\n",
    "\n",
    "    correct = 0\n",
    "    L = 0\n",
    "\n",
    "    for i in range(len(dataset)):  # Iterate in batches over the training dataset.\n",
    "\n",
    "        chain = chainz[i]\n",
    "        data = dataset[i]\n",
    "\n",
    "        out = basic_model.forward(chain)  # Perform a single forward pass.\n",
    "\n",
    "        # do a 1-hot encoding of data.y\n",
    "        y = torch.zeros(dataset.num_classes)\n",
    "        y[data.y] = 1\n",
    "\n",
    "        # compute if prediction is correct\n",
    "        if torch.argmax(out) == torch.argmax(y):\n",
    "            correct += 1\n",
    "        \n",
    "        loss = criterion(out, y)  # Compute the loss.\n",
    "        loss.backward()  # Derive gradients.\n",
    "\n",
    "        L += loss.item()\n",
    "\n",
    "        optimizer.step()  # Update parameters based on gradients.\n",
    "        optimizer.zero_grad()  # Clear gradients.\n",
    "\n",
    "        \n",
    "\n",
    "    return L / len(dataset), correct / len(dataset)\n",
    "\n"
   ]
  },
  {
   "cell_type": "code",
   "execution_count": 14,
   "metadata": {},
   "outputs": [
    {
     "name": "stderr",
     "output_type": "stream",
     "text": [
      "/var/folders/w2/2q_ql79j5_s6kq_b56rg9xdc0000gn/T/ipykernel_1258/3356116047.py:49: UserWarning: Implicit dimension choice for softmax has been deprecated. Change the call to include dim=X as an argument.\n",
      "  sm = nn.functional.softmax(output)\n"
     ]
    },
    {
     "name": "stdout",
     "output_type": "stream",
     "text": [
      "Epoch =  0 Loss =  0.18747732577379794 Accuracy =  0.779375\n",
      "Epoch =  1 Loss =  0.14574738807510584 Accuracy =  0.8625\n",
      "Epoch =  2 Loss =  0.1408453833591193 Accuracy =  0.881875\n",
      "Epoch =  3 Loss =  0.13718949696514757 Accuracy =  0.890625\n",
      "Epoch =  4 Loss =  0.1363063517957926 Accuracy =  0.903125\n",
      "Epoch =  5 Loss =  0.13571833836380393 Accuracy =  0.89875\n",
      "Epoch =  6 Loss =  0.1353155891597271 Accuracy =  0.901875\n",
      "Epoch =  7 Loss =  0.13400741266086696 Accuracy =  0.901875\n",
      "Epoch =  8 Loss =  0.13266401074361056 Accuracy =  0.9125\n",
      "Epoch =  9 Loss =  0.13277978788129985 Accuracy =  0.913125\n"
     ]
    }
   ],
   "source": [
    "epochs = 10\n",
    "\n",
    "losses = torch.zeros(epochs)\n",
    "accuracies = torch.zeros(epochs)\n",
    "\n",
    "for j in range(epochs):\n",
    "\n",
    "    L, A = train(train_dataset, chainz)\n",
    "\n",
    "    losses[j] = L\n",
    "    accuracies[j] = A\n",
    "    \n",
    "    print(\"Epoch = \", j, \"Loss = \", L, \"Accuracy = \", A)\n"
   ]
  },
  {
   "cell_type": "code",
   "execution_count": 15,
   "metadata": {},
   "outputs": [],
   "source": [
    "# save the basic model to a file\n",
    "torch.save(basic_model.state_dict(), 'basic_model.pt')"
   ]
  },
  {
   "cell_type": "code",
   "execution_count": 17,
   "metadata": {},
   "outputs": [
    {
     "data": {
      "text/plain": [
       "[<matplotlib.lines.Line2D at 0x7fe926436d10>,\n",
       " <matplotlib.lines.Line2D at 0x7fe93b989bd0>,\n",
       " <matplotlib.lines.Line2D at 0x7fe926335660>,\n",
       " <matplotlib.lines.Line2D at 0x7fe91d9478e0>,\n",
       " <matplotlib.lines.Line2D at 0x7fe9264fca90>,\n",
       " <matplotlib.lines.Line2D at 0x7fe925eb3e20>,\n",
       " <matplotlib.lines.Line2D at 0x7fe92655fee0>,\n",
       " <matplotlib.lines.Line2D at 0x7fe9264bb670>,\n",
       " <matplotlib.lines.Line2D at 0x7fe92648d0f0>,\n",
       " <matplotlib.lines.Line2D at 0x7fe926341180>]"
      ]
     },
     "execution_count": 17,
     "metadata": {},
     "output_type": "execute_result"
    },
    {
     "data": {
      "image/png": "[encoded data removed]",
      "text/plain": [
       "<Figure size 640x480 with 1 Axes>"
      ]
     },
     "metadata": {},
     "output_type": "display_data"
    }
   ],
   "source": [
    "# plot losses\n",
    "plt.plot(losses)"
   ]
  },
  {
   "cell_type": "code",
   "execution_count": 23,
   "metadata": {},
   "outputs": [
    {
     "name": "stderr",
     "output_type": "stream",
     "text": [
      "/var/folders/w2/2q_ql79j5_s6kq_b56rg9xdc0000gn/T/ipykernel_1258/3356116047.py:49: UserWarning: Implicit dimension choice for softmax has been deprecated. Change the call to include dim=X as an argument.\n",
      "  sm = nn.functional.softmax(output)\n"
     ]
    },
    {
     "data": {
      "image/png": "[encoded data removed]",
      "text/plain": [
       "<Figure size 1000x1000 with 1 Axes>"
      ]
     },
     "metadata": {},
     "output_type": "display_data"
    }
   ],
   "source": [
    "# plot a scatterplot of the predictions\n",
    "\n",
    "# make a 3d scatter plot of vf evaluated on the set of paths, colored by labels\n",
    "fig = plt.figure(figsize=(10,10))\n",
    "\n",
    "ax = fig.add_subplot(111)\n",
    "\n",
    "class0 = []\n",
    "class1 = []\n",
    "\n",
    "for i in range(len(train_dataset)):\n",
    "        \n",
    "        chain = chainz[i]\n",
    "        data = dataset[i]\n",
    "\n",
    "        X = basic_model.forward(chain)\n",
    "\n",
    "        lb = data.y\n",
    "        \n",
    "        if lb == 0:\n",
    "            ax.scatter(X[0].detach().numpy(), X[1].detach().numpy(), color = 'blue', alpha = 0.5)\n",
    "            class0.append(X[0].detach().numpy())\n",
    "        elif lb == 1:\n",
    "            ax.scatter(X[0].detach().numpy(), X[1].detach().numpy(), color = 'red', alpha = 0.5)\n",
    "            class1.append(X[0].detach().numpy())\n",
    "\n",
    "# add a title to the figure\n",
    "fig.suptitle('Graph embeddedings after training colored by label')\n",
    "\n",
    "plt.show()"
   ]
  },
  {
   "cell_type": "code",
   "execution_count": 26,
   "metadata": {},
   "outputs": [
    {
     "data": {
      "image/png": "[encoded data removed]",
      "text/plain": [
       "<Figure size 1000x1000 with 1 Axes>"
      ]
     },
     "metadata": {},
     "output_type": "display_data"
    }
   ],
   "source": [
    "# make histograms with density approximation of class0 and class1 on the same figure\n",
    "fig = plt.figure(figsize=(10,10))\n",
    "\n",
    "ax = fig.add_subplot(111)\n",
    "\n",
    "ax.hist(class0, bins = 20, density = True, color = 'blue', alpha = 0.5, label = 'class 0')\n",
    "ax.hist(class1, bins = 20, density = True, color = 'red', alpha = 0.5, label = 'class 1')\n",
    "\n",
    "\n",
    "# add a title to the figure\n",
    "fig.suptitle('Histograms of graph embeddedings after training colored by label')\n",
    "\n",
    "plt.legend()\n",
    "\n",
    "# add a title to the x axis\n",
    "plt.xlabel('Probability of class 0')\n",
    "\n",
    "plt.show()\n"
   ]
  },
  {
   "cell_type": "code",
   "execution_count": 19,
   "metadata": {},
   "outputs": [],
   "source": [
    "# evaluate the model on the test set\n",
    "def test(dataset, chainz):\n",
    "\n",
    "    basic_model.eval()\n",
    "\n",
    "    correct = 0\n",
    "\n",
    "    for i in range(len(dataset)):  # Iterate in batches over the training/test dataset.\n",
    "\n",
    "        chain = chainz[i]\n",
    "        data = dataset[i]\n",
    "\n",
    "        out = basic_model.forward(chain)  # Perform a single forward pass.\n",
    "\n",
    "        # do a 1-hot encoding of data.y\n",
    "        y = torch.zeros(dataset.num_classes)\n",
    "        y[data.y] = 1\n",
    "\n",
    "        # compute if prediction is correct\n",
    "        if torch.argmax(out) == torch.argmax(y):\n",
    "            correct += 1\n",
    "\n",
    "    return correct / len(dataset)\n",
    "\n"
   ]
  },
  {
   "cell_type": "code",
   "execution_count": 20,
   "metadata": {},
   "outputs": [
    {
     "name": "stderr",
     "output_type": "stream",
     "text": [
      "/var/folders/w2/2q_ql79j5_s6kq_b56rg9xdc0000gn/T/ipykernel_1258/1412791142.py:7: UserWarning: To copy construct from a tensor, it is recommended to use sourceTensor.clone().detach() or sourceTensor.clone().detach().requires_grad_(True), rather than torch.tensor(sourceTensor).\n",
      "  node_features = torch.tensor(graph['x'])\n",
      "/var/folders/w2/2q_ql79j5_s6kq_b56rg9xdc0000gn/T/ipykernel_1258/1412791142.py:10: UserWarning: To copy construct from a tensor, it is recommended to use sourceTensor.clone().detach() or sourceTensor.clone().detach().requires_grad_(True), rather than torch.tensor(sourceTensor).\n",
      "  edge_index =torch.tensor(data['edge_index']).T\n",
      "/var/folders/w2/2q_ql79j5_s6kq_b56rg9xdc0000gn/T/ipykernel_1258/3356116047.py:49: UserWarning: Implicit dimension choice for softmax has been deprecated. Change the call to include dim=X as an argument.\n",
      "  sm = nn.functional.softmax(output)\n"
     ]
    }
   ],
   "source": [
    "# evaluate the model on the test set\n",
    "test_chainz = []\n",
    "for i in range(len(test_dataset)):\n",
    "    data = test_dataset[i]\n",
    "\n",
    "    test_chainz.append(graph_to_chain(data))\n",
    "\n",
    "test_acc = test(test_dataset, test_chainz)\n",
    "\n"
   ]
  },
  {
   "cell_type": "code",
   "execution_count": 21,
   "metadata": {},
   "outputs": [
    {
     "data": {
      "text/plain": [
       "0.94"
      ]
     },
     "execution_count": 21,
     "metadata": {},
     "output_type": "execute_result"
    }
   ],
   "source": [
    "test_acc"
   ]
  },
  {
   "attachments": {},
   "cell_type": "markdown",
   "metadata": {},
   "source": [
    "is this real?"
   ]
  },
  {
   "cell_type": "markdown",
   "metadata": {},
   "source": []
  }
 ],
 "metadata": {
  "kernelspec": {
   "display_name": "Python 3",
   "language": "python",
   "name": "python3"
  },
  "language_info": {
   "codemirror_mode": {
    "name": "ipython",
    "version": 3
   },
   "file_extension": ".py",
   "mimetype": "text/x-python",
   "name": "python",
   "nbconvert_exporter": "python",
   "pygments_lexer": "ipython3",
   "version": "3.10.11"
  }
 },
 "nbformat": 4,
 "nbformat_minor": 4
}
