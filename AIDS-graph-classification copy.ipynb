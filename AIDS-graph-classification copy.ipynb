{
 "cells": [
  {
   "attachments": {},
   "cell_type": "markdown",
   "metadata": {},
   "source": [
    "## AIDS\n",
    "\n",
    "In *message passing simplicial networks* they benchmark using some data sets from TUdatasets. Here we try the PROTEINS dataset. See \"Protein Function Prediction via Graph Kernels\", Bogwart et al., for details about the data set. \n",
    "\n",
    "There are two classes of graphs: *enzymes* and *not enzymes*\n",
    "\n",
    "The data set has node features in $\\{0,1 \\}^3$ . "
   ]
  },
  {
   "cell_type": "markdown",
   "metadata": {},
   "source": [
    "### Todo: \n",
    "- Check initialization of cochains: I think right now its random \n",
    "- Try different models,  maybe more convolutional layers or higher powers of L "
   ]
  },
  {
   "cell_type": "code",
   "execution_count": 1,
   "metadata": {},
   "outputs": [
    {
     "ename": "ModuleNotFoundError",
     "evalue": "No module named 'torch'",
     "output_type": "error",
     "traceback": [
      "\u001b[0;31m---------------------------------------------------------------------------\u001b[0m",
      "\u001b[0;31mModuleNotFoundError\u001b[0m                       Traceback (most recent call last)",
      "Cell \u001b[0;32mIn[1], line 1\u001b[0m\n\u001b[0;32m----> 1\u001b[0m \u001b[39mimport\u001b[39;00m \u001b[39mtorch\u001b[39;00m\n\u001b[1;32m      2\u001b[0m \u001b[39mimport\u001b[39;00m \u001b[39mtorch\u001b[39;00m\u001b[39m.\u001b[39;00m\u001b[39mnn\u001b[39;00m \u001b[39mas\u001b[39;00m \u001b[39mnn\u001b[39;00m\n\u001b[1;32m      3\u001b[0m \u001b[39mimport\u001b[39;00m \u001b[39mtorch_geometric\u001b[39;00m\n",
      "\u001b[0;31mModuleNotFoundError\u001b[0m: No module named 'torch'"
     ]
    }
   ],
   "source": [
    "import torch\n",
    "import torch.nn as nn\n",
    "import torch_geometric\n",
    "from torch_geometric.datasets import TUDataset\n",
    "import networkx as nx\n",
    "import numpy as np\n",
    "import gudhi as gd\n",
    "import matplotlib.pyplot as plt\n",
    "import numpy as np\n",
    "  \n",
    "import cochainlearning as cl"
   ]
  },
  {
   "cell_type": "markdown",
   "metadata": {},
   "source": [
    "# Load the dataset"
   ]
  },
  {
   "cell_type": "code",
   "execution_count": 2,
   "metadata": {},
   "outputs": [
    {
     "name": "stderr",
     "output_type": "stream",
     "text": [
      "Downloading https://www.chrsmrrs.com/graphkerneldatasets/BZR.zip\n",
      "Extracting tudata/TUDataset/BZR/BZR.zip\n",
      "Processing...\n",
      "Done!\n"
     ]
    },
    {
     "data": {
      "text/plain": [
       "BZR(405)"
      ]
     },
     "execution_count": 2,
     "metadata": {},
     "output_type": "execute_result"
    }
   ],
   "source": [
    "# dataset\n",
    "dataset = TUDataset(root='tudata/TUDataset', name='BZR')\n",
    "dataset"
   ]
  },
  {
   "cell_type": "code",
   "execution_count": 3,
   "metadata": {},
   "outputs": [
    {
     "name": "stdout",
     "output_type": "stream",
     "text": [
      "\n",
      "Dataset: BZR(405):\n",
      "====================\n",
      "Number of graphs: 405\n",
      "Number of features: 53\n",
      "Number of classes: 2\n",
      "\n",
      "Data(edge_index=[2, 64], x=[30, 53], y=[1])\n",
      "=============================================================\n",
      "Number of nodes: 30\n",
      "Number of edges: 64\n",
      "Average node degree: 2.13\n",
      "Has isolated nodes: False\n",
      "Has self-loops: False\n",
      "Is undirected: True\n"
     ]
    }
   ],
   "source": [
    "print()\n",
    "print(f'Dataset: {dataset}:')\n",
    "print('====================')\n",
    "print(f'Number of graphs: {len(dataset)}')\n",
    "print(f'Number of features: {dataset.num_features}')\n",
    "print(f'Number of classes: {dataset.num_classes}')\n",
    "\n",
    "data = dataset[0]  # Get the first graph object.\n",
    "\n",
    "print()\n",
    "print(data)\n",
    "print('=============================================================')\n",
    "\n",
    "# Gather some statistics about the first graph.\n",
    "print(f'Number of nodes: {data.num_nodes}')\n",
    "print(f'Number of edges: {data.num_edges}')\n",
    "print(f'Average node degree: {data.num_edges / data.num_nodes:.2f}')\n",
    "print(f'Has isolated nodes: {data.has_isolated_nodes()}')\n",
    "print(f'Has self-loops: {data.has_self_loops()}')\n",
    "print(f'Is undirected: {data.is_undirected()}')"
   ]
  },
  {
   "cell_type": "markdown",
   "metadata": {},
   "source": [
    "#### Separate data into training and testing "
   ]
  },
  {
   "cell_type": "code",
   "execution_count": 5,
   "metadata": {},
   "outputs": [
    {
     "name": "stdout",
     "output_type": "stream",
     "text": [
      "Number of training graphs: 340\n",
      "Number of test graphs: 65\n"
     ]
    }
   ],
   "source": [
    "torch.manual_seed(12345)\n",
    "dataset = dataset.shuffle()\n",
    "\n",
    "len_train_set = 340\n",
    "train_dataset = dataset[:len_train_set]\n",
    "test_dataset = dataset[len_train_set:]\n",
    "\n",
    "print(f'Number of training graphs: {len(train_dataset)}')\n",
    "print(f'Number of test graphs: {len(test_dataset)}')"
   ]
  },
  {
   "cell_type": "markdown",
   "metadata": {},
   "source": [
    "#### Make clique complexess with the graphs\n",
    "clique complexes up to dimension 2 "
   ]
  },
  {
   "cell_type": "code",
   "execution_count": 6,
   "metadata": {},
   "outputs": [
    {
     "name": "stderr",
     "output_type": "stream",
     "text": [
      "/var/folders/w2/2q_ql79j5_s6kq_b56rg9xdc0000gn/T/ipykernel_4246/1412791142.py:7: UserWarning: To copy construct from a tensor, it is recommended to use sourceTensor.clone().detach() or sourceTensor.clone().detach().requires_grad_(True), rather than torch.tensor(sourceTensor).\n",
      "  node_features = torch.tensor(graph['x'])\n",
      "/var/folders/w2/2q_ql79j5_s6kq_b56rg9xdc0000gn/T/ipykernel_4246/1412791142.py:10: UserWarning: To copy construct from a tensor, it is recommended to use sourceTensor.clone().detach() or sourceTensor.clone().detach().requires_grad_(True), rather than torch.tensor(sourceTensor).\n",
      "  edge_index =torch.tensor(data['edge_index']).T\n",
      "/var/folders/w2/2q_ql79j5_s6kq_b56rg9xdc0000gn/T/ipykernel_4246/1412791142.py:19: UserWarning: Creating a tensor from a list of numpy.ndarrays is extremely slow. Please consider converting the list to a single numpy.ndarray with numpy.array() before converting to a tensor. (Triggered internally at /Users/runner/work/pytorch/pytorch/pytorch/torch/csrc/utils/tensor_new.cpp:248.)\n",
      "  edges = torch.tensor([np.sort([edge_index[i][0],edge_index[i][1]]) for i in range(len(edge_index))])\n"
     ]
    }
   ],
   "source": [
    "def graph_to_chain(graph):\n",
    "    \"\"\" \n",
    "    A function for turning a graph into a chain\n",
    "    \"\"\"\n",
    "\n",
    "    # get node features\n",
    "    node_features = torch.tensor(graph['x'])\n",
    "\n",
    "    # get edges\n",
    "    edge_index =torch.tensor(data['edge_index']).T\n",
    "\n",
    "    # number of 1-simplices\n",
    "    r = edge_index.shape[0]\n",
    "\n",
    "    # embedding dimension\n",
    "    n = node_features.shape[1]\n",
    "\n",
    "    # sort the edge indices\n",
    "    edges = torch.tensor([np.sort([edge_index[i][0],edge_index[i][1]]) for i in range(len(edge_index))])\n",
    "\n",
    "    # initialize chain\n",
    "    ch = torch.zeros((r,2,n))\n",
    "\n",
    "    # turn edges into a 1-chain\n",
    "    for i in range(r):\n",
    "        ch[i,0,:] = node_features[edges[i][0]]\n",
    "        ch[i,1,:] = node_features[edges[i][1]]\n",
    "\n",
    "    return ch\n",
    "\n",
    "# example\n",
    "chainz = []\n",
    "for i in range(len(dataset)):\n",
    "    data = dataset[i]\n",
    "\n",
    "    chainz.append(graph_to_chain(data))"
   ]
  },
  {
   "attachments": {},
   "cell_type": "markdown",
   "metadata": {},
   "source": [
    "## Train a model"
   ]
  },
  {
   "cell_type": "code",
   "execution_count": 7,
   "metadata": {},
   "outputs": [],
   "source": [
    "class model(nn.Module):  \n",
    "    \n",
    "    \"\"\"Define a simple model using convolutional layers and linear layers \n",
    "    to reduce the dim of the output \"\"\"\n",
    "    \n",
    "    \n",
    "    def __init__(self, n, out, c = 5, m1 = 20, m2 = 10, m3 = 20, m4 = 10): ## check channel sizes\n",
    "        super().__init__()\n",
    "        self.n = n\n",
    "        self.c = c\n",
    "        self.m1 = m1\n",
    "        self.m2 = m2\n",
    "        self.m3 = m3\n",
    "\n",
    "        # initialise vector field\n",
    "        self.vf = nn.Sequential(\n",
    "                    nn.Linear(n, m1),\n",
    "                    nn.ReLU(),\n",
    "                    nn.Linear(m1, m2),\n",
    "                    nn.ReLU(),\n",
    "                    nn.Linear(m2, n*c)\n",
    "                    )\n",
    "        \n",
    "        # initialise MLP classifier\n",
    "        self.classifier = nn.Sequential(\n",
    "                    nn.Linear(c, m3),\n",
    "                    nn.ReLU(),\n",
    "                    nn.Linear(m3, m4),\n",
    "                    nn.ReLU(),\n",
    "                    nn.Linear(m4, out)\n",
    "                    )\n",
    "\n",
    "        \n",
    "        \n",
    "    def forward(self, x):\n",
    "        ## asses the dimensions are correct somewhere \n",
    "        \"Here the input is a chain, and the output is a vector of probabilities\"\n",
    "\n",
    "        # generate cochain data matrix\n",
    "        X = cl.gen_CDM(self.vf, x)\n",
    "\n",
    "        # orientation invariant square L2-norm readout function\n",
    "        X = torch.diag(X.T @ X)\n",
    "\n",
    "        # put output through classifier\n",
    "        output = self.classifier(X)\n",
    "\n",
    "        # softmax\n",
    "        sm = nn.functional.softmax(output)\n",
    "        \n",
    "        return sm\n",
    "    \n",
    "    "
   ]
  },
  {
   "cell_type": "code",
   "execution_count": 8,
   "metadata": {},
   "outputs": [],
   "source": [
    "\n",
    "n = dataset[0]['x'].shape[1] # cochain feature dimension\n",
    "out = dataset.num_classes # output dimension\n",
    "\n",
    "\n",
    "basic_model = model(n = n, out = out)"
   ]
  },
  {
   "cell_type": "code",
   "execution_count": 9,
   "metadata": {},
   "outputs": [
    {
     "data": {
      "text/plain": [
       "tensor([0])"
      ]
     },
     "execution_count": 9,
     "metadata": {},
     "output_type": "execute_result"
    }
   ],
   "source": [
    "dataset[0].y"
   ]
  },
  {
   "cell_type": "code",
   "execution_count": 10,
   "metadata": {},
   "outputs": [
    {
     "name": "stdout",
     "output_type": "stream",
     "text": [
      "Number of graphs in each class in the dataset:\n",
      "=============================================================\n",
      "Class 0: 268\n",
      "Class 1: 72\n"
     ]
    }
   ],
   "source": [
    "# print the total number of graphs in each class in the dataset\n",
    "print('Number of graphs in each class in the dataset:')\n",
    "print('=============================================================')\n",
    "for i in range(train_dataset.num_classes):\n",
    "    print(f'Class {i}: {sum([1 for data in train_dataset if data.y == i])}')\n",
    "\n",
    "# store the ratio of graphs in each class\n",
    "class_ratios = torch.tensor([sum([1 for data in train_dataset if data.y == i]) / len(train_dataset) for i in range(train_dataset.num_classes)])\n",
    "\n",
    "weight_ratios = 1 - class_ratios\n"
   ]
  },
  {
   "cell_type": "code",
   "execution_count": 13,
   "metadata": {},
   "outputs": [],
   "source": [
    "import torch.optim as optim\n",
    "\n",
    "# create your optimizer\n",
    "optimizer = optim.SGD(basic_model.parameters(), lr=1e-2)\n",
    "\n",
    "criterion = torch.nn.CrossEntropyLoss(weight=weight_ratios)"
   ]
  },
  {
   "cell_type": "code",
   "execution_count": 14,
   "metadata": {},
   "outputs": [],
   "source": [
    "def train(dataset, chainz):\n",
    "\n",
    "    \n",
    "    basic_model.train()\n",
    "\n",
    "    correct = 0\n",
    "    L = 0\n",
    "\n",
    "    for i in range(len(dataset)):  # Iterate in batches over the training dataset.\n",
    "\n",
    "        chain = chainz[i]\n",
    "        data = dataset[i]\n",
    "\n",
    "        out = basic_model.forward(chain)  # Perform a single forward pass.\n",
    "\n",
    "        # do a 1-hot encoding of data.y\n",
    "        y = torch.zeros(dataset.num_classes)\n",
    "        y[data.y] = 1\n",
    "\n",
    "        # compute if prediction is correct\n",
    "        if torch.argmax(out) == torch.argmax(y):\n",
    "            correct += 1\n",
    "        \n",
    "        loss = criterion(out, y)  # Compute the loss.\n",
    "        loss.backward()  # Derive gradients.\n",
    "\n",
    "        L += loss.item()\n",
    "\n",
    "        optimizer.step()  # Update parameters based on gradients.\n",
    "        optimizer.zero_grad()  # Clear gradients.\n",
    "\n",
    "        \n",
    "\n",
    "    return L / len(dataset), correct / len(dataset)\n",
    "\n"
   ]
  },
  {
   "cell_type": "code",
   "execution_count": 15,
   "metadata": {},
   "outputs": [
    {
     "name": "stderr",
     "output_type": "stream",
     "text": [
      "/var/folders/w2/2q_ql79j5_s6kq_b56rg9xdc0000gn/T/ipykernel_4246/3356116047.py:49: UserWarning: Implicit dimension choice for softmax has been deprecated. Change the call to include dim=X as an argument.\n",
      "  sm = nn.functional.softmax(output)\n"
     ]
    },
    {
     "name": "stdout",
     "output_type": "stream",
     "text": [
      "Epoch =  0 Loss =  0.2315793395480689 Accuracy =  0.21176470588235294\n",
      "Epoch =  1 Loss =  0.23155837646302055 Accuracy =  0.21176470588235294\n",
      "Epoch =  2 Loss =  0.2315437475548071 Accuracy =  0.21176470588235294\n",
      "Epoch =  3 Loss =  0.23153352075639894 Accuracy =  0.21176470588235294\n",
      "Epoch =  4 Loss =  0.2315263436121099 Accuracy =  0.21176470588235294\n",
      "Epoch =  5 Loss =  0.23152127958395902 Accuracy =  0.21176470588235294\n",
      "Epoch =  6 Loss =  0.23151767678997096 Accuracy =  0.21176470588235294\n",
      "Epoch =  7 Loss =  0.2315150806132485 Accuracy =  0.21764705882352942\n",
      "Epoch =  8 Loss =  0.23151317493003956 Accuracy =  0.2323529411764706\n",
      "Epoch =  9 Loss =  0.23151174783706666 Accuracy =  0.2411764705882353\n",
      "Epoch =  10 Loss =  0.23151064243386774 Accuracy =  0.25588235294117645\n",
      "Epoch =  11 Loss =  0.23150975984685562 Accuracy =  0.27647058823529413\n",
      "Epoch =  12 Loss =  0.23150902688503266 Accuracy =  0.31470588235294117\n",
      "Epoch =  13 Loss =  0.23150839284062386 Accuracy =  0.3323529411764706\n",
      "Epoch =  14 Loss =  0.23150782729772962 Accuracy =  0.36470588235294116\n",
      "Epoch =  15 Loss =  0.2315073022071053 Accuracy =  0.36764705882352944\n",
      "Epoch =  16 Loss =  0.2315068087157081 Accuracy =  0.3941176470588235\n",
      "Epoch =  17 Loss =  0.2315063265754896 Accuracy =  0.4176470588235294\n",
      "Epoch =  18 Loss =  0.2315058583722395 Accuracy =  0.4264705882352941\n",
      "Epoch =  19 Loss =  0.23150538973071996 Accuracy =  0.4323529411764706\n",
      "Epoch =  20 Loss =  0.2315049243323943 Accuracy =  0.45\n",
      "Epoch =  21 Loss =  0.23150445358718144 Accuracy =  0.46176470588235297\n",
      "Epoch =  22 Loss =  0.2315039823160452 Accuracy =  0.4764705882352941\n",
      "Epoch =  23 Loss =  0.23150350512827145 Accuracy =  0.4852941176470588\n",
      "Epoch =  24 Loss =  0.2315030219800332 Accuracy =  0.4852941176470588\n",
      "Epoch =  25 Loss =  0.23150253401083104 Accuracy =  0.48823529411764705\n",
      "Epoch =  26 Loss =  0.23150203473427716 Accuracy =  0.48823529411764705\n",
      "Epoch =  27 Loss =  0.23150152976022048 Accuracy =  0.49117647058823527\n",
      "Epoch =  28 Loss =  0.2315010178615065 Accuracy =  0.5\n",
      "Epoch =  29 Loss =  0.23150049575111445 Accuracy =  0.5\n",
      "Epoch =  30 Loss =  0.2314999679432196 Accuracy =  0.5117647058823529\n",
      "Epoch =  31 Loss =  0.2314994276008185 Accuracy =  0.5117647058823529\n",
      "Epoch =  32 Loss =  0.23149887853685547 Accuracy =  0.5088235294117647\n",
      "Epoch =  33 Loss =  0.2314983222852735 Accuracy =  0.5088235294117647\n",
      "Epoch =  34 Loss =  0.23149775437572423 Accuracy =  0.5117647058823529\n",
      "Epoch =  35 Loss =  0.23149717559709268 Accuracy =  0.5117647058823529\n",
      "Epoch =  36 Loss =  0.2314965876586297 Accuracy =  0.5117647058823529\n",
      "Epoch =  37 Loss =  0.2314959878430647 Accuracy =  0.5117647058823529\n",
      "Epoch =  38 Loss =  0.2314953743973199 Accuracy =  0.5147058823529411\n",
      "Epoch =  39 Loss =  0.23149475135347422 Accuracy =  0.5176470588235295\n",
      "Epoch =  40 Loss =  0.2314941166078343 Accuracy =  0.5205882352941177\n",
      "Epoch =  41 Loss =  0.23149346516412847 Accuracy =  0.5205882352941177\n",
      "Epoch =  42 Loss =  0.2314928035963984 Accuracy =  0.5205882352941177\n",
      "Epoch =  43 Loss =  0.23149212366517852 Accuracy =  0.5235294117647059\n",
      "Epoch =  44 Loss =  0.2314914333031458 Accuracy =  0.5235294117647059\n",
      "Epoch =  45 Loss =  0.2314907254103352 Accuracy =  0.5235294117647059\n",
      "Epoch =  46 Loss =  0.23149000130155506 Accuracy =  0.5235294117647059\n",
      "Epoch =  47 Loss =  0.2314892597934779 Accuracy =  0.5264705882352941\n",
      "Epoch =  48 Loss =  0.2314885026830084 Accuracy =  0.5235294117647059\n",
      "Epoch =  49 Loss =  0.23148772506152882 Accuracy =  0.5264705882352941\n",
      "Epoch =  50 Loss =  0.2314869299530983 Accuracy =  0.5294117647058824\n",
      "Epoch =  51 Loss =  0.23148611385156126 Accuracy =  0.5294117647058824\n",
      "Epoch =  52 Loss =  0.23148527964949608 Accuracy =  0.5294117647058824\n",
      "Epoch =  53 Loss =  0.23148442217532325 Accuracy =  0.5352941176470588\n",
      "Epoch =  54 Loss =  0.2314835410346003 Accuracy =  0.5352941176470588\n",
      "Epoch =  55 Loss =  0.23148263907607863 Accuracy =  0.5352941176470588\n",
      "Epoch =  56 Loss =  0.23148171051460154 Accuracy =  0.5352941176470588\n",
      "Epoch =  57 Loss =  0.23148075613905403 Accuracy =  0.5323529411764706\n",
      "Epoch =  58 Loss =  0.2314797758617822 Accuracy =  0.5294117647058824\n",
      "Epoch =  59 Loss =  0.23147876569453407 Accuracy =  0.5294117647058824\n",
      "Epoch =  60 Loss =  0.23147772441015524 Accuracy =  0.5294117647058824\n",
      "Epoch =  61 Loss =  0.23147665542714735 Accuracy =  0.5294117647058824\n",
      "Epoch =  62 Loss =  0.23147555265356512 Accuracy =  0.5294117647058824\n",
      "Epoch =  63 Loss =  0.2314744172289091 Accuracy =  0.5294117647058824\n",
      "Epoch =  64 Loss =  0.2314732474001015 Accuracy =  0.5294117647058824\n",
      "Epoch =  65 Loss =  0.23147204027456394 Accuracy =  0.5294117647058824\n",
      "Epoch =  66 Loss =  0.2314707974300665 Accuracy =  0.5264705882352941\n",
      "Epoch =  67 Loss =  0.23146951145985548 Accuracy =  0.5323529411764706\n",
      "Epoch =  68 Loss =  0.23146818416083562 Accuracy =  0.5352941176470588\n",
      "Epoch =  69 Loss =  0.2314668132101788 Accuracy =  0.538235294117647\n",
      "Epoch =  70 Loss =  0.23146539654801873 Accuracy =  0.5411764705882353\n",
      "Epoch =  71 Loss =  0.23146392926573753 Accuracy =  0.5411764705882353\n",
      "Epoch =  72 Loss =  0.23146240961025744 Accuracy =  0.5441176470588235\n",
      "Epoch =  73 Loss =  0.23146083219086422 Accuracy =  0.5470588235294118\n",
      "Epoch =  74 Loss =  0.2314592025735799 Accuracy =  0.5529411764705883\n",
      "Epoch =  75 Loss =  0.23145750476156965 Accuracy =  0.5470588235294118\n",
      "Epoch =  76 Loss =  0.23145575146464742 Accuracy =  0.55\n",
      "Epoch =  77 Loss =  0.23145395342041464 Accuracy =  0.55\n",
      "Epoch =  78 Loss =  0.23145209270365097 Accuracy =  0.5529411764705883\n",
      "Epoch =  79 Loss =  0.23145016295944942 Accuracy =  0.5529411764705883\n",
      "Epoch =  80 Loss =  0.2314481605501736 Accuracy =  0.5558823529411765\n",
      "Epoch =  81 Loss =  0.23144608985851792 Accuracy =  0.5558823529411765\n",
      "Epoch =  82 Loss =  0.23144394913140465 Accuracy =  0.5588235294117647\n",
      "Epoch =  83 Loss =  0.2314417370101985 Accuracy =  0.5588235294117647\n",
      "Epoch =  84 Loss =  0.23143945362638024 Accuracy =  0.5617647058823529\n",
      "Epoch =  85 Loss =  0.23143709398367826 Accuracy =  0.5647058823529412\n",
      "Epoch =  86 Loss =  0.2314346705289448 Accuracy =  0.5617647058823529\n",
      "Epoch =  87 Loss =  0.23143215267097247 Accuracy =  0.5617647058823529\n",
      "Epoch =  88 Loss =  0.23142962184022456 Accuracy =  0.5617647058823529\n",
      "Epoch =  89 Loss =  0.23142692569424125 Accuracy =  0.5617647058823529\n",
      "Epoch =  90 Loss =  0.23142445394221475 Accuracy =  0.5558823529411765\n",
      "Epoch =  91 Loss =  0.23142190255662975 Accuracy =  0.5558823529411765\n",
      "Epoch =  92 Loss =  0.23141926693565706 Accuracy =  0.5558823529411765\n",
      "Epoch =  93 Loss =  0.2314165682915379 Accuracy =  0.5529411764705883\n",
      "Epoch =  94 Loss =  0.23141384023953887 Accuracy =  0.5558823529411765\n",
      "Epoch =  95 Loss =  0.23141096558640986 Accuracy =  0.5558823529411765\n",
      "Epoch =  96 Loss =  0.2314080347909647 Accuracy =  0.5588235294117647\n",
      "Epoch =  97 Loss =  0.23140526479657958 Accuracy =  0.5588235294117647\n",
      "Epoch =  98 Loss =  0.23140204281491392 Accuracy =  0.5558823529411765\n",
      "Epoch =  99 Loss =  0.23139910338556066 Accuracy =  0.5558823529411765\n"
     ]
    }
   ],
   "source": [
    "epochs = 100\n",
    "\n",
    "losses = torch.zeros(epochs)\n",
    "accuracies = torch.zeros(epochs)\n",
    "\n",
    "for j in range(epochs):\n",
    "\n",
    "    L, A = train(train_dataset, chainz)\n",
    "\n",
    "    losses[j] = L\n",
    "    accuracies[j] = A\n",
    "    \n",
    "    print(\"Epoch = \", j, \"Loss = \", L, \"Accuracy = \", A)\n"
   ]
  },
  {
   "cell_type": "code",
   "execution_count": 15,
   "metadata": {},
   "outputs": [],
   "source": [
    "# save the basic model to a file\n",
    "#torch.save(basic_model.state_dict(), 'basic_model.pt')"
   ]
  },
  {
   "cell_type": "code",
   "execution_count": 13,
   "metadata": {},
   "outputs": [
    {
     "data": {
      "text/plain": [
       "[<matplotlib.lines.Line2D at 0x7f905c141090>]"
      ]
     },
     "execution_count": 13,
     "metadata": {},
     "output_type": "execute_result"
    },
    {
     "data": {
      "image/png": "[encoded data removed]",
      "text/plain": [
       "<Figure size 640x480 with 1 Axes>"
      ]
     },
     "metadata": {},
     "output_type": "display_data"
    }
   ],
   "source": [
    "# plot losses\n",
    "plt.plot(losses)"
   ]
  },
  {
   "cell_type": "code",
   "execution_count": 14,
   "metadata": {},
   "outputs": [
    {
     "name": "stderr",
     "output_type": "stream",
     "text": [
      "/var/folders/w2/2q_ql79j5_s6kq_b56rg9xdc0000gn/T/ipykernel_8346/3356116047.py:49: UserWarning: Implicit dimension choice for softmax has been deprecated. Change the call to include dim=X as an argument.\n",
      "  sm = nn.functional.softmax(output)\n"
     ]
    },
    {
     "data": {
      "image/png": "[encoded data removed]",
      "text/plain": [
       "<Figure size 1000x1000 with 1 Axes>"
      ]
     },
     "metadata": {},
     "output_type": "display_data"
    }
   ],
   "source": [
    "# plot a scatterplot of the predictions\n",
    "\n",
    "# make a 3d scatter plot of vf evaluated on the set of paths, colored by labels\n",
    "fig = plt.figure(figsize=(10,10))\n",
    "\n",
    "ax = fig.add_subplot(111)\n",
    "\n",
    "class0 = []\n",
    "class1 = []\n",
    "\n",
    "for i in range(len(train_dataset)):\n",
    "        \n",
    "        chain = chainz[i]\n",
    "        data = dataset[i]\n",
    "\n",
    "        X = basic_model.forward(chain)\n",
    "\n",
    "        lb = data.y\n",
    "        \n",
    "        if lb == 0:\n",
    "            ax.scatter(X[0].detach().numpy(), X[1].detach().numpy(), color = 'blue', alpha = 0.5)\n",
    "            class0.append(X[0].detach().numpy())\n",
    "        elif lb == 1:\n",
    "            ax.scatter(X[0].detach().numpy(), X[1].detach().numpy(), color = 'red', alpha = 0.5)\n",
    "            class1.append(X[0].detach().numpy())\n",
    "\n",
    "# add a title to the figure\n",
    "fig.suptitle('Graph embeddedings after training colored by label')\n",
    "\n",
    "plt.show()"
   ]
  },
  {
   "cell_type": "code",
   "execution_count": 15,
   "metadata": {},
   "outputs": [
    {
     "data": {
      "image/png": "[encoded data removed]",
      "text/plain": [
       "<Figure size 1000x1000 with 1 Axes>"
      ]
     },
     "metadata": {},
     "output_type": "display_data"
    }
   ],
   "source": [
    "# make histograms with density approximation of class0 and class1 on the same figure\n",
    "fig = plt.figure(figsize=(10,10))\n",
    "\n",
    "ax = fig.add_subplot(111)\n",
    "\n",
    "ax.hist(class0, bins = 20, density = True, color = 'blue', alpha = 0.5, label = 'class 0')\n",
    "ax.hist(class1, bins = 20, density = True, color = 'red', alpha = 0.5, label = 'class 1')\n",
    "\n",
    "\n",
    "# add a title to the figure\n",
    "fig.suptitle('Histograms of graph embeddedings after training colored by label')\n",
    "\n",
    "plt.legend()\n",
    "\n",
    "# add a title to the x axis\n",
    "plt.xlabel('Probability of class 0')\n",
    "\n",
    "plt.show()\n"
   ]
  },
  {
   "cell_type": "code",
   "execution_count": 16,
   "metadata": {},
   "outputs": [],
   "source": [
    "# evaluate the model on the test set\n",
    "def test(dataset, chainz):\n",
    "\n",
    "    basic_model.eval()\n",
    "\n",
    "    correct = 0\n",
    "\n",
    "    for i in range(len(dataset)):  # Iterate in batches over the training/test dataset.\n",
    "\n",
    "        chain = chainz[i]\n",
    "        data = dataset[i]\n",
    "\n",
    "        out = basic_model.forward(chain)  # Perform a single forward pass.\n",
    "\n",
    "        # do a 1-hot encoding of data.y\n",
    "        y = torch.zeros(dataset.num_classes)\n",
    "        y[data.y] = 1\n",
    "\n",
    "        # compute if prediction is correct\n",
    "        if torch.argmax(out) == torch.argmax(y):\n",
    "            correct += 1\n",
    "\n",
    "    return correct / len(dataset)\n",
    "\n"
   ]
  },
  {
   "cell_type": "code",
   "execution_count": 17,
   "metadata": {},
   "outputs": [
    {
     "name": "stderr",
     "output_type": "stream",
     "text": [
      "/var/folders/w2/2q_ql79j5_s6kq_b56rg9xdc0000gn/T/ipykernel_8346/1412791142.py:7: UserWarning: To copy construct from a tensor, it is recommended to use sourceTensor.clone().detach() or sourceTensor.clone().detach().requires_grad_(True), rather than torch.tensor(sourceTensor).\n",
      "  node_features = torch.tensor(graph['x'])\n",
      "/var/folders/w2/2q_ql79j5_s6kq_b56rg9xdc0000gn/T/ipykernel_8346/1412791142.py:10: UserWarning: To copy construct from a tensor, it is recommended to use sourceTensor.clone().detach() or sourceTensor.clone().detach().requires_grad_(True), rather than torch.tensor(sourceTensor).\n",
      "  edge_index =torch.tensor(data['edge_index']).T\n",
      "/var/folders/w2/2q_ql79j5_s6kq_b56rg9xdc0000gn/T/ipykernel_8346/3356116047.py:49: UserWarning: Implicit dimension choice for softmax has been deprecated. Change the call to include dim=X as an argument.\n",
      "  sm = nn.functional.softmax(output)\n"
     ]
    }
   ],
   "source": [
    "# evaluate the model on the test set\n",
    "test_chainz = []\n",
    "for i in range(len(test_dataset)):\n",
    "    data = test_dataset[i]\n",
    "\n",
    "    test_chainz.append(graph_to_chain(data))\n",
    "\n",
    "test_acc = test(test_dataset, test_chainz)\n",
    "\n"
   ]
  },
  {
   "cell_type": "code",
   "execution_count": 18,
   "metadata": {},
   "outputs": [
    {
     "data": {
      "text/plain": [
       "0.93"
      ]
     },
     "execution_count": 18,
     "metadata": {},
     "output_type": "execute_result"
    }
   ],
   "source": [
    "test_acc"
   ]
  }
 ],
 "metadata": {
  "kernelspec": {
   "display_name": "Python 3",
   "language": "python",
   "name": "python3"
  },
  "language_info": {
   "codemirror_mode": {
    "name": "ipython",
    "version": 3
   },
   "file_extension": ".py",
   "mimetype": "text/x-python",
   "name": "python",
   "nbconvert_exporter": "python",
   "pygments_lexer": "ipython3",
   "version": "3.8.9"
  }
 },
 "nbformat": 4,
 "nbformat_minor": 4
}
