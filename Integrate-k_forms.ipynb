{
 "cells": [
  {
   "attachments": {},
   "cell_type": "markdown",
   "metadata": {},
   "source": [
    "# Integrating k-forms"
   ]
  },
  {
   "cell_type": "code",
   "execution_count": 3,
   "metadata": {},
   "outputs": [],
   "source": [
    "import numpy as np\n",
    "import matplotlib as mpl\n",
    "import torch\n",
    "import torch.nn as nn\n",
    "from matplotlib import pyplot as plt\n",
    "from matplotlib import colors as mcolors\n",
    "import math\n",
    "\n",
    "import scipy.special"
   ]
  },
  {
   "attachments": {},
   "cell_type": "markdown",
   "metadata": {},
   "source": [
    "#### 1. Subdivide the standard 2-simplex \n",
    "\n",
    "The vertices of the standard 2-simplex are ordered first by increasing $x$-value then by increasing $y$-value"
   ]
  },
  {
   "cell_type": "code",
   "execution_count": 4,
   "metadata": {},
   "outputs": [
    {
     "data": {
      "text/plain": [
       "tensor([[0.0000, 0.0000],\n",
       "        [0.0000, 0.5000],\n",
       "        [0.0000, 1.0000],\n",
       "        [0.5000, 0.0000],\n",
       "        [0.5000, 0.5000],\n",
       "        [1.0000, 0.0000]])"
      ]
     },
     "execution_count": 4,
     "metadata": {},
     "output_type": "execute_result"
    }
   ],
   "source": [
    "# rewrite the function above so that the output is a torch tensor\n",
    "def subdivide_torch(n):\n",
    "    # create a list of vertices\n",
    "    vertices = []\n",
    "    for i in range(n+1):\n",
    "        for j in range(n+1-i):\n",
    "            vertices.append([i/n,j/n])\n",
    "    vertices = torch.tensor(vertices)\n",
    "    return vertices\n",
    "\n",
    "subdivide_torch(2)"
   ]
  },
  {
   "cell_type": "code",
   "execution_count": 5,
   "metadata": {},
   "outputs": [],
   "source": [
    "# check if a point is strictly the interior of a triangle with vertices (0,0), (1,0), (0,1)\n",
    "def is_interior(point):\n",
    "    if point[0] > 0 and point[1] > 0 and point[0] + point[1] < 1:\n",
    "        return True\n",
    "    else:\n",
    "        return False\n",
    "    \n",
    "\n",
    "# check if a point is striclty on the intetior one of the edges of a triangle with vertices (0,0), (1,0), (0,1)\n",
    "def is_edge(point):\n",
    "    if point[0] == 0 and point[1] > 0 and point[1] < 1:\n",
    "        return True\n",
    "    elif point[0] == 1 and point[1] > 0 and point[1] < 1:\n",
    "        return True\n",
    "    elif point[0] > 0 and point[0] < 1 and point[1] == 0:\n",
    "        return True\n",
    "    else:\n",
    "        return False\n",
    "    \n",
    "\n",
    "#check if a point is a vertex of a triangle with vertices (0,0), (1,0), (0,1)\n",
    "def is_vertex(point):\n",
    "    if point[0] == 0 and point[1] == 0:\n",
    "        return True\n",
    "    elif point[0] == 1 and point[1] == 0:\n",
    "        return True\n",
    "    elif point[0] == 0 and point[1] == 1:\n",
    "        return True\n",
    "    else:\n",
    "        return False"
   ]
  },
  {
   "cell_type": "code",
   "execution_count": 6,
   "metadata": {},
   "outputs": [
    {
     "name": "stdout",
     "output_type": "stream",
     "text": [
      "tensor([0., 0.]) is a vertex\n",
      "tensor([0.0000, 0.5000]) is on the edge\n",
      "tensor([0., 1.]) is a vertex\n",
      "tensor([0.5000, 0.0000]) is on the edge\n",
      "tensor([1., 0.]) is a vertex\n"
     ]
    }
   ],
   "source": [
    "## Example of using the functions above \n",
    "\n",
    "vertices = subdivide_torch(2)\n",
    "for v in vertices: \n",
    "    if is_interior(v):\n",
    "        print(v, \"is in the triangle\")\n",
    "    if is_edge(v):\n",
    "        print(v, \"is on the edge\")\n",
    "    if is_vertex(v):\n",
    "        print(v, \"is a vertex\")\n",
    "    "
   ]
  },
  {
   "attachments": {},
   "cell_type": "markdown",
   "metadata": {},
   "source": [
    "#### 2. Sum a function $g$ over the subdivision of the standard 2-simplex\n",
    "\n",
    "This will be used later on in integration"
   ]
  },
  {
   "cell_type": "code",
   "execution_count": 7,
   "metadata": {},
   "outputs": [],
   "source": [
    "## function to integrate a function g over the triangle with vertices (0,0), (1,0), (0,1)\n",
    "\n",
    "def sum_points(n, g):\n",
    "    val = 0\n",
    "    vertices = subdivide_torch(n)\n",
    "    for pt in vertices:\n",
    "        if is_interior(pt):\n",
    "            cof = 6\n",
    "        elif is_edge(pt):\n",
    "            cof = 3\n",
    "        else: \n",
    "            cof = 1\n",
    "\n",
    "        val += cof * g(pt)\n",
    "    vol = 1/(2*(n**2))\n",
    "    num_triangles = n**2 \n",
    "    return  (val* vol )/num_triangles\n",
    "\n"
   ]
  },
  {
   "cell_type": "code",
   "execution_count": 8,
   "metadata": {},
   "outputs": [
    {
     "data": {
      "text/plain": [
       "tensor([-0.0432], grad_fn=<DivBackward0>)"
      ]
     },
     "execution_count": 8,
     "metadata": {},
     "output_type": "execute_result"
    }
   ],
   "source": [
    "g = nn.Sequential(\n",
    "    nn.Linear(2, 1)\n",
    ")\n",
    "g(torch.tensor([0.5,0.5]).float())\n",
    "sum_points(2, g)"
   ]
  },
  {
   "attachments": {},
   "cell_type": "markdown",
   "metadata": {},
   "source": [
    "#### 3. Compute the determinant for the sum $g(x)$\n",
    "\n",
    "\n",
    "the matrix phi embedding the standard 2-simplex is a ($n$ -by- number of vertices in the subdivision of the $2$-simplex)-matrix containing the embedding values in $\\mathbb{R}^n$ of each subdivision vertex\n",
    "the first entry is the embedding of the vertex $(0,0)$ and the order of the vertices follows that given at part 1."
   ]
  },
  {
   "cell_type": "code",
   "execution_count": 10,
   "metadata": {},
   "outputs": [
    {
     "name": "stdout",
     "output_type": "stream",
     "text": [
      "torch.Size([3, 2])\n",
      "tensor([[0, 0],\n",
      "        [2, 1],\n",
      "        [1, 2]])\n",
      "torch.Size([2, 2])\n",
      "2\n"
     ]
    }
   ],
   "source": [
    "## embedding of the nodes of a triangle in R^2 \n",
    "phi_dim2 = torch.tensor([[0,0],[2,1],[1,2]])  ## embedding matrix of a triangle in R^2 \n",
    "print(phi_dim2.shape)\n",
    "print(phi_dim2)\n",
    "deter = torch.tensor([[0,1.0],[-1.0,0]]) ## this will be used to compute dxidxj\n",
    "print(deter.shape)\n",
    "\n",
    "print(phi_dim2.shape[1])\n",
    "\n",
    "# I think this one is wrong \n",
    "\"\"\"def build_mat_s(phi,s):\n",
    "    # build a matrix such that we will use it for the determinant entering in the integral formula for a 2-form \n",
    "    \n",
    "    # assert that s is > 0\n",
    "    n = phi.shape[1] #embedding dimension \n",
    "    mat = torch.zeros(int(scipy.special.binom(n,2)),2) ## at some point make this more general than for 2-forms \n",
    "    ind = 0\n",
    "    for i in range(n):\n",
    "        for j in range(i+1,n): ## shouldd we have n+1 somewhere here?\n",
    "\n",
    "            mat[ind,0]= phi[s,i]-phi[0,i]\n",
    "            mat[ind, 1] = phi[s,j]-phi[0,j] \n",
    "            ind += 1  \n",
    "\n",
    "    return mat  \"\"\"\n",
    "\n",
    "\n",
    "\n",
    "\n",
    "# this should be the correct one\n",
    "\n",
    "def build_big_mat(phi_main_vert):\n",
    "    ## phi_main_vert is the embedding of the vertices of the triangle in R^2 \n",
    "\n",
    "\n",
    "    n = phi_main_vert.shape[1] #embedding dimension\n",
    "\n",
    "    # output is tensor of size (n-1,n,1) (CHECK!!!!!)\n",
    "    PHI = torch.zeros(n-1,n,1)\n",
    "    ind = 0\n",
    "    for ind in range(1,n): # index of the vertex that we are considering\n",
    "         for j in range(1, n): # direction of basis vector  \n",
    "            PHI[ind,k,0] = phi_main_vert[ind,j]-phi_main_vert[0,j] ## here we need the vector of the edge length ofthe triangle\n",
    "            \n",
    "    return mat\n",
    "\n",
    "\n",
    "## make an example \n"
   ]
  },
  {
   "cell_type": "code",
   "execution_count": 11,
   "metadata": {},
   "outputs": [
    {
     "name": "stdout",
     "output_type": "stream",
     "text": [
      "0 1\n",
      "0 2\n",
      "1 2\n"
     ]
    }
   ],
   "source": [
    "for i in range(3):\n",
    "    for j in range(i+1,3):\n",
    "        print(i,j)"
   ]
  },
  {
   "cell_type": "code",
   "execution_count": 12,
   "metadata": {},
   "outputs": [
    {
     "ename": "NameError",
     "evalue": "name 'build_mat_s' is not defined",
     "output_type": "error",
     "traceback": [
      "\u001b[0;31m---------------------------------------------------------------------------\u001b[0m",
      "\u001b[0;31mNameError\u001b[0m                                 Traceback (most recent call last)",
      "\u001b[0;32m/var/folders/2j/2qw49ghn6wl0sxs7390sbf8w0000gp/T/ipykernel_1246/1601164655.py\u001b[0m in \u001b[0;36m<module>\u001b[0;34m\u001b[0m\n\u001b[0;32m----> 1\u001b[0;31m \u001b[0mmat1\u001b[0m \u001b[0;34m=\u001b[0m \u001b[0mbuild_mat_s\u001b[0m\u001b[0;34m(\u001b[0m\u001b[0mphi_dim2\u001b[0m\u001b[0;34m,\u001b[0m\u001b[0;36m1\u001b[0m\u001b[0;34m)\u001b[0m\u001b[0;34m\u001b[0m\u001b[0;34m\u001b[0m\u001b[0m\n\u001b[0m\u001b[1;32m      2\u001b[0m \u001b[0mmat2\u001b[0m \u001b[0;34m=\u001b[0m \u001b[0mbuild_mat_s\u001b[0m\u001b[0;34m(\u001b[0m\u001b[0mphi_dim2\u001b[0m\u001b[0;34m,\u001b[0m\u001b[0;36m2\u001b[0m\u001b[0;34m)\u001b[0m\u001b[0;34m\u001b[0m\u001b[0;34m\u001b[0m\u001b[0m\n\u001b[1;32m      3\u001b[0m \u001b[0mprint\u001b[0m\u001b[0;34m(\u001b[0m\u001b[0mmat1\u001b[0m\u001b[0;34m)\u001b[0m\u001b[0;34m\u001b[0m\u001b[0;34m\u001b[0m\u001b[0m\n\u001b[1;32m      4\u001b[0m \u001b[0mprint\u001b[0m\u001b[0;34m(\u001b[0m\u001b[0mmat2\u001b[0m\u001b[0;34m)\u001b[0m\u001b[0;34m\u001b[0m\u001b[0;34m\u001b[0m\u001b[0m\n\u001b[1;32m      5\u001b[0m \u001b[0mprint\u001b[0m\u001b[0;34m(\u001b[0m\u001b[0mmat2\u001b[0m\u001b[0;34m.\u001b[0m\u001b[0mtranspose\u001b[0m\u001b[0;34m(\u001b[0m\u001b[0;36m0\u001b[0m\u001b[0;34m,\u001b[0m\u001b[0;36m1\u001b[0m\u001b[0;34m)\u001b[0m\u001b[0;34m)\u001b[0m\u001b[0;34m\u001b[0m\u001b[0;34m\u001b[0m\u001b[0m\n",
      "\u001b[0;31mNameError\u001b[0m: name 'build_mat_s' is not defined"
     ]
    }
   ],
   "source": [
    "mat1 = build_mat_s(phi_dim2,1)\n",
    "mat2 = build_mat_s(phi_dim2,2)\n",
    "print(mat1)\n",
    "print(mat2)\n",
    "print(mat2.transpose(0,1))\n",
    "\n",
    "# multiply the matrices \n",
    "torch.matmul(torch.matmul(mat1, deter), mat2.transpose(0,1))\n",
    "\n"
   ]
  },
  {
   "cell_type": "code",
   "execution_count": 13,
   "metadata": {},
   "outputs": [
    {
     "name": "stdout",
     "output_type": "stream",
     "text": [
      "1\n",
      "tensor(0.0517, grad_fn=<SelectBackward0>)\n"
     ]
    }
   ],
   "source": [
    "## a k-form on R^n is NN from R^n to a space of dimensison n choose k\n",
    "# a 2-form on R^n is NN from R^n to a space of dimension n choose 2               \n",
    "\n",
    "n = 2\n",
    "k = 2\n",
    "N = int(scipy.special.binom(n,k))\n",
    "print(N)\n",
    "\n",
    "kform = nn.Sequential(\n",
    "    nn.Linear(n, N)\n",
    ")\n",
    "\n",
    "a = kform(torch.tensor([0.5,0.5]).float())\n",
    "\n",
    "print(a[0])\n"
   ]
  },
  {
   "cell_type": "code",
   "execution_count": 14,
   "metadata": {},
   "outputs": [
    {
     "name": "stdout",
     "output_type": "stream",
     "text": [
      "tensor([[[ 0.,  1.,  0.],\n",
      "         [-1.,  0.,  0.],\n",
      "         [ 0.,  0.,  0.]],\n",
      "\n",
      "        [[ 0.,  0.,  1.],\n",
      "         [ 0.,  0.,  0.],\n",
      "         [-1.,  0.,  0.]],\n",
      "\n",
      "        [[ 0.,  0.,  0.],\n",
      "         [ 0.,  0.,  1.],\n",
      "         [ 0., -1.,  0.]]])\n"
     ]
    }
   ],
   "source": [
    "# build a tensor of shape (n choose k, n, n) that will be used to compute the determinant\n",
    "\n",
    "def build_big_deter_tensor(n, k):\n",
    "    N = int(scipy.special.binom(n,k))\n",
    "    deter_tensor = torch.zeros(N, n, n)\n",
    "    ind = 0\n",
    "    for i in range(n):\n",
    "        for j in range(i+1,n):\n",
    "            # each tensor is a nxn matrix with (i,j)-coordinate equal to 1 and (j,i)-coordinate equal to -1\n",
    "            deter_tensor[ind,i,j] = torch.tensor(1)\n",
    "            deter_tensor[ind,j,i] = torch.tensor(-1)\n",
    "            ind += 1\n",
    "\n",
    "     \n",
    "    return deter_tensor\n",
    "\n",
    "deter_tensor = build_big_deter_tensor(3,2)\n",
    "print(deter_tensor)\n"
   ]
  },
  {
   "cell_type": "code",
   "execution_count": 22,
   "metadata": {},
   "outputs": [],
   "source": [
    "def get_g_from_2form(kform, phi, pt):\n",
    "    # get the function g from the 2-form kform\n",
    "    # phi is the embedding of the triangle in R^2\n",
    "    # deter is the matrix that will be used to compute dxidxj\n",
    "\n",
    "    ## pt is the point inside the standard simplex where we want to evaluate the 2-form\n",
    "    n= phi.shape[1]\n",
    "    N = int(scipy.special.binom(n,2)) ## number of 2-forms on R^2\n",
    "\n",
    "    place_holder_dxidxj_value = torch.eye(N) \n",
    "    phi_pt = phi[2] ## merge vertices and pt in the matrix phi so they are indexed in the same way\n",
    "    for ind in range(N):\n",
    "        kform(phi_pt)[ind]\n",
    "\n",
    "    g_pt = torch.sum(kform(phi_pt) * place_holder_dxidxj_value)\n",
    "\n",
    "    return g_pt ##vlaue of the function g the point pt inside the standard simplex\n",
    "\n",
    "\n"
   ]
  },
  {
   "cell_type": "code",
   "execution_count": 21,
   "metadata": {},
   "outputs": [
    {
     "data": {
      "text/plain": [
       "tensor([[ 1,  4],\n",
       "        [ 9, 16]])"
      ]
     },
     "execution_count": 21,
     "metadata": {},
     "output_type": "execute_result"
    }
   ],
   "source": [
    "# entry wise multiplication of two tensors of the same shape\n",
    "t = torch.tensor([[1,2],[3,4]])\n",
    "s = torch.tensor([[1,2],[3,4]])\n",
    "\n",
    "t*s\n",
    "\n"
   ]
  },
  {
   "cell_type": "code",
   "execution_count": null,
   "metadata": {},
   "outputs": [],
   "source": [
    "def get_g_from_2form(kform, phi, deter, s,t):\n",
    "    # get the function g from the 2-form kform\n",
    "    # phi is the embedding of the triangle in R^2\n",
    "    # deter is the matrix that will be used to compute dxidxj\n",
    "    n= phi.shape[1]\n",
    "    N = int(scipy.special.binom(n,2))\n",
    "    \n",
    "    DET= build_big_deter_tensor(n,2)\n",
    "\n",
    "    for i in range(n):\n",
    "        mat1 = build_mat_s(phi,i)\n",
    "        for j in range(i+1,n):\n",
    "            \n",
    "             mat2 = build_mat_s(phi,j)\n",
    "    \n",
    "    torch.sum\n",
    "\n",
    "    return g \n"
   ]
  },
  {
   "cell_type": "code",
   "execution_count": 17,
   "metadata": {},
   "outputs": [
    {
     "data": {
      "text/plain": [
       "tensor([[1.]])"
      ]
     },
     "execution_count": 17,
     "metadata": {},
     "output_type": "execute_result"
    }
   ],
   "source": [
    "torch.eye(1)"
   ]
  },
  {
   "cell_type": "code",
   "execution_count": null,
   "metadata": {},
   "outputs": [],
   "source": []
  }
 ],
 "metadata": {
  "kernelspec": {
   "display_name": "Python 3",
   "language": "python",
   "name": "python3"
  },
  "language_info": {
   "codemirror_mode": {
    "name": "ipython",
    "version": 3
   },
   "file_extension": ".py",
   "mimetype": "text/x-python",
   "name": "python",
   "nbconvert_exporter": "python",
   "pygments_lexer": "ipython3",
   "version": "3.7.12"
  }
 },
 "nbformat": 4,
 "nbformat_minor": 4
}
